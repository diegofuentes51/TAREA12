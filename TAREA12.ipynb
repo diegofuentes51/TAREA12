{
  "nbformat": 4,
  "nbformat_minor": 0,
  "metadata": {
    "colab": {
      "provenance": [],
      "authorship_tag": "ABX9TyNlChCAWXuITfP14l7aak6F",
      "include_colab_link": true
    },
    "kernelspec": {
      "name": "python3",
      "display_name": "Python 3"
    },
    "language_info": {
      "name": "python"
    }
  },
  "cells": [
    {
      "cell_type": "markdown",
      "metadata": {
        "id": "view-in-github",
        "colab_type": "text"
      },
      "source": [
        "<a href=\"https://colab.research.google.com/github/diegofuentes51/TAREA12/blob/main/TAREA12.ipynb\" target=\"_parent\"><img src=\"https://colab.research.google.com/assets/colab-badge.svg\" alt=\"Open In Colab\"/></a>"
      ]
    },
    {
      "cell_type": "code",
      "execution_count": 21,
      "metadata": {
        "colab": {
          "base_uri": "https://localhost:8080/"
        },
        "id": "dEwUwtgG2WpP",
        "outputId": "39f6fa49-ebde-4bde-8c67-8ccf9c7374a8"
      },
      "outputs": [
        {
          "output_type": "stream",
          "name": "stdout",
          "text": [
            "Probabilidades a priori:\n",
            "P(Robado=Si) = 0.5\n",
            "P(Robado=No) = 0.5\n",
            "\n"
          ]
        }
      ],
      "source": [
        "#Importa la libreria que voy a necesitar para el trabajo\n",
        "import pandas as pd\n",
        "#crea un diccionario\n",
        "data = [\n",
        "    {\"Color\": \"Rojo\", \"Tipo\": \"Deportivo\", \"Origen\": \"Doméstico\", \"Robado\": \"Si\"},\n",
        "    {\"Color\": \"Rojo\", \"Tipo\": \"Deportivo\", \"Origen\": \"Doméstico\", \"Robado\": \"No\"},\n",
        "    {\"Color\": \"Rojo\", \"Tipo\": \"Deportivo\", \"Origen\": \"Doméstico\", \"Robado\": \"Si\"},\n",
        "    {\"Color\": \"Amarillo\", \"Tipo\": \"Deportivo\", \"Origen\": \"Doméstico\", \"Robado\": \"No\"},\n",
        "    {\"Color\": \"Amarillo\", \"Tipo\": \"Deportivo\", \"Origen\": \"Importado\", \"Robado\": \"Si\"},\n",
        "    {\"Color\": \"Amarillo\", \"Tipo\": \"SUV\", \"Origen\": \"Importado\", \"Robado\": \"No\"},\n",
        "    {\"Color\": \"Amarillo\", \"Tipo\": \"SUV\", \"Origen\": \"Importado\", \"Robado\": \"Si\"},\n",
        "    {\"Color\": \"Amarillo\", \"Tipo\": \"SUV\", \"Origen\": \"Doméstico\", \"Robado\": \"No\"},\n",
        "    {\"Color\": \"Rojo\", \"Tipo\": \"SUV\", \"Origen\": \"Importado\", \"Robado\": \"No\"},\n",
        "    {\"Color\": \"Rojo\", \"Tipo\": \"Deportivo\", \"Origen\": \"Importado\", \"Robado\": \"Si\"},\n",
        "]\n",
        "\n",
        "df = pd.DataFrame(data)\n",
        "registro = {\"Color\": \"Rojo\", \"Tipo\": \"Deportivo\", \"Origen\": \"Importado\"}\n",
        "\n",
        "# Se calcula las probabilidades a priori\n",
        "total = len(df)\n",
        "p_robado_si = len(df[df[\"Robado\"] == \"Si\"]) / total\n",
        "p_robado_no = len(df[df[\"Robado\"] == \"No\"]) / total\n",
        "\n",
        "# Se calcula las robabilidades condicionales\n",
        "def prob_condicional(columna, valor, clase):\n",
        "    subset = df[df[\"Robado\"] == clase]\n",
        "    return len(subset[subset[columna] == valor]) / len(subset)\n",
        "\n",
        "# Se muestran los resultados\n",
        "print(\"Probabilidades a priori:\")\n",
        "print(f\"P(Robado=Si) = {p_robado_si}\")\n",
        "print(f\"P(Robado=No) = {p_robado_no}\\n\")"
      ]
    },
    {
      "cell_type": "code",
      "source": [
        "# Condicionales dado que Robado = Si\n",
        "p_color_si = prob_condicional(\"Color\", registro[\"Color\"], \"Si\")\n",
        "p_tipo_si = prob_condicional(\"Tipo\", registro[\"Tipo\"], \"Si\")\n",
        "p_origen_si = prob_condicional(\"Origen\", registro[\"Origen\"], \"Si\")\n",
        "\n",
        "print(\"Probabilidades condicionales dado que Robado = Si:\")\n",
        "print(f\"Color=Rojo -- Si) = {p_color_si}\")\n",
        "print(f\"Tipo=Deportivo -- Si) = {p_tipo_si}\")\n",
        "print(f\"Origen=Importado -- Si) = {p_origen_si}\\n\")"
      ],
      "metadata": {
        "colab": {
          "base_uri": "https://localhost:8080/"
        },
        "id": "mpMrUzRK4Zej",
        "outputId": "5fc97363-e280-4220-d689-7a7eb2a6a262"
      },
      "execution_count": 22,
      "outputs": [
        {
          "output_type": "stream",
          "name": "stdout",
          "text": [
            "Probabilidades condicionales dado que Robado = Si:\n",
            "Color=Rojo -- Si) = 0.6\n",
            "Tipo=Deportivo -- Si) = 0.8\n",
            "Origen=Importado -- Si) = 0.6\n",
            "\n"
          ]
        }
      ]
    },
    {
      "cell_type": "code",
      "source": [
        "# Condicionales dado que Robado = No\n",
        "p_color_no = prob_condicional(\"Color\", registro[\"Color\"], \"No\")\n",
        "p_tipo_no = prob_condicional(\"Tipo\", registro[\"Tipo\"], \"No\")\n",
        "p_origen_no = prob_condicional(\"Origen\", registro[\"Origen\"], \"No\")\n",
        "\n",
        "print(\"Probabilidades condicionales dado que Robado = No:\")\n",
        "print(f\"Color=Rojo -- No) = {p_color_no}\")\n",
        "print(f\"Tipo=Deportivo -- No) = {p_tipo_no}\")\n",
        "print(f\"Origen=Importado -- No) = {p_origen_no}\\n\")"
      ],
      "metadata": {
        "colab": {
          "base_uri": "https://localhost:8080/"
        },
        "id": "SC6eDNK34ecH",
        "outputId": "28fc3c4a-dcc3-445a-998f-6eb77a6c22f7"
      },
      "execution_count": 23,
      "outputs": [
        {
          "output_type": "stream",
          "name": "stdout",
          "text": [
            "Probabilidades condicionales dado que Robado = No:\n",
            "Color=Rojo -- No) = 0.4\n",
            "Tipo=Deportivo -- No) = 0.4\n",
            "Origen=Importado -- No) = 0.4\n",
            "\n"
          ]
        }
      ]
    },
    {
      "cell_type": "code",
      "source": [
        "# Calcular probabilidades a posteriori\n",
        "posterior_si = p_robado_si * p_color_si * p_tipo_si * p_origen_si\n",
        "posterior_no = p_robado_no * p_color_no * p_tipo_no * p_origen_no\n",
        "\n",
        "# Clasificacion final\n",
        "clasificacion = \"Si\" if posterior_si > posterior_no else \"No\"\n",
        "\n",
        "\n",
        "print(\"Probabilidades a posteriori:\")\n",
        "print(f\"Sí -- X) = {posterior_si}\")\n",
        "print(f\"No -- X) = {posterior_no}\\n\")\n",
        "\n",
        "print(f\"Clasificacion final del registro: Robado = {clasificacion}\")"
      ],
      "metadata": {
        "colab": {
          "base_uri": "https://localhost:8080/"
        },
        "id": "ftzANQ834m5G",
        "outputId": "1898e2fc-9410-418e-da61-0b274c60925c"
      },
      "execution_count": 24,
      "outputs": [
        {
          "output_type": "stream",
          "name": "stdout",
          "text": [
            "Probabilidades a posteriori:\n",
            "Sí -- X) = 0.144\n",
            "No -- X) = 0.03200000000000001\n",
            "\n",
            "Clasificacion final del registro: Robado = Si\n"
          ]
        }
      ]
    }
  ]
}